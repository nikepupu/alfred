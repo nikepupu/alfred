{
 "metadata": {
  "language_info": {
   "codemirror_mode": {
    "name": "ipython",
    "version": 3
   },
   "file_extension": ".py",
   "mimetype": "text/x-python",
   "name": "python",
   "nbconvert_exporter": "python",
   "pygments_lexer": "ipython3",
   "version": "3.7.10"
  },
  "orig_nbformat": 2,
  "kernelspec": {
   "name": "python37964bitpy37conda4cac47237e174e32ba9498b5e006c034",
   "display_name": "Python 3.7.10 64-bit ('py37': conda)"
  },
  "metadata": {
   "interpreter": {
    "hash": "1136f71e485bee8f7fda5a47664b50623a16c25bdc566f5798c5d60e2c781027"
   }
  }
 },
 "nbformat": 4,
 "nbformat_minor": 2,
 "cells": [
  {
   "cell_type": "code",
   "execution_count": 1,
   "metadata": {},
   "outputs": [],
   "source": [
    "import os \n",
    "import json\n",
    "from ai2thor.controller import Controller\n",
    "import time\n",
    "import pickle\n",
    "import copy"
   ]
  },
  {
   "cell_type": "code",
   "execution_count": null,
   "metadata": {},
   "outputs": [],
   "source": []
  },
  {
   "cell_type": "code",
   "execution_count": 2,
   "metadata": {},
   "outputs": [],
   "source": [
    "def run(floorPlan, object_poses, actions, init_action, object_toggles, dirty_and_empty , turk_annotations, controller, task_type):\n",
    "    \n",
    "    controller.reset(scene_name =  floorPlan)\n",
    "    if len(object_toggles) > 0:\n",
    "            controller.step((dict(action='SetObjectToggles', objectToggles=object_toggles)))\n",
    "\n",
    "    if dirty_and_empty:\n",
    "            controller.step(dict(action='SetStateOfAllObjects',\n",
    "                               StateChange=\"CanBeDirty\",\n",
    "                               forceAction=True))\n",
    "            controller.step(dict(action='SetStateOfAllObjects',\n",
    "                               StateChange=\"CanBeFilled\",\n",
    "                               forceAction=False))\n",
    "\n",
    "    tmp = dict( action ='SetObjectPoses', objectPoses=object_poses)\n",
    " \n",
    "    controller.step(tmp)\n",
    "   \n",
    "    # frame  = controller.last_event.frame\n",
    "    controller.step(init_action)\n",
    "    items = []\n",
    "    subgoals = 0\n",
    "    for action in actions:\n",
    "        subgoals = max(action['high_idx'], subgoals)\n",
    "    subgoals += 1\n",
    "    for action in actions:\n",
    "        precondition = controller.last_event.frame\n",
    "        # print(action['api_action'])\n",
    "        controller.step(action['api_action'] )\n",
    "        # print(controller.last_event.metadata['lastActionSuccess'])\n",
    "        posteffect = controller.last_event.frame\n",
    "        item = {\n",
    "            'precondition': precondition, \n",
    "            'posteffect': posteffect, \n",
    "            'action' : action['api_action'], \n",
    "            'subgoals': subgoals, \n",
    "            'current_goal': action['high_idx'], \n",
    "            'currentprogress': float(action['high_idx'])/float(subgoals), \n",
    "            'low_descs': [ a['high_descs'][action['high_idx']] for a in  turk_annotations] , \n",
    "            'task_descs': [ a['task_desc'] for a in turk_annotations ],\n",
    "            'task_type': task_type\n",
    "        }\n",
    "        items.append(item)\n",
    "        # cur_high_idx = 0\n",
    "        \n",
    "        # for a in turk_annotations:\n",
    "        #     try:\n",
    "        #         item['low_descs'] = None\n",
    "        #         item['task_desc'] = None\n",
    "        #         item['low_descs'] = a['high_descs'][action['high_idx']]\n",
    "        #         item['task_desc'] = a['task_desc']\n",
    "               \n",
    "        #         if item['low_descs'] and item['task_desc']:\n",
    "        #             items.append(copy.deepcopy(item))\n",
    "                \n",
    "        #     except:\n",
    "        #         pass\n",
    "\n",
    "    return items\n",
    "\n"
   ]
  },
  {
   "cell_type": "code",
   "execution_count": 3,
   "metadata": {
    "tags": []
   },
   "outputs": [
    {
     "output_type": "stream",
     "name": "stderr",
     "text": [
      "100%|██████████| 2435/2435 [2:55:28<00:00,  4.32s/it]\n"
     ]
    }
   ],
   "source": [
    "split = 'train'\n",
    "tasks = os.listdir('data/full_2.1.0/' + split)\n",
    "cnt = 0\n",
    "controller = Controller()\n",
    "controller.start(player_screen_height=300,\n",
    "                 player_screen_width=300)\n",
    "from tqdm import tqdm\n",
    "table = []\n",
    "for task in tqdm(tasks):\n",
    "    task_path =  os.path.join('data/full_2.1.0/' + split, task)\n",
    "    trials = os.listdir(task_path)\n",
    "    \n",
    "    for trial in trials:\n",
    "        path = os.path.join('data/full_2.1.0/' + split, task, trial, 'traj_data.json')\n",
    "        \n",
    "        with open(path) as f:\n",
    "            data = json.load(f)\n",
    "\n",
    "        floorPlan = data['scene']['floor_plan']\n",
    "        object_poses = data['scene']['object_poses']\n",
    "        actions = data['plan']['low_actions']\n",
    "        init_action = data['scene']['init_action']\n",
    "        object_toggles  = data['scene']['object_toggles']\n",
    "        dirty_and_empty = data['scene']['dirty_and_empty']\n",
    "        turk_annotations =  data['turk_annotations']['anns']\n",
    "        try:\n",
    "            eposide = run(floorPlan, object_poses, actions, init_action, object_toggles, dirty_and_empty, turk_annotations , controller, data['task_type'])\n",
    "            table.append(eposide)\n",
    "        except:\n",
    "            pass\n",
    "        \n",
    "    \n",
    "    if len(table) > 500 or task == tasks[-1]:\n",
    "        with open('dataset_'+split+'_'+str(cnt)+'.pickle', 'wb') as handle:\n",
    "            pickle.dump(table, handle, protocol=pickle.HIGHEST_PROTOCOL)\n",
    "        cnt += 1\n",
    "        table = []\n",
    "    \n",
    "        # for action in actions:\n",
    "        #         print(action['api_action'])\n",
    "       \n",
    "controller.stop()"
   ]
  },
  {
   "cell_type": "code",
   "execution_count": 4,
   "metadata": {},
   "outputs": [
    {
     "output_type": "execute_result",
     "data": {
      "text/plain": [
       "dict_keys(['images', 'pddl_params', 'plan', 'scene', 'task_id', 'task_type', 'turk_annotations'])"
      ]
     },
     "metadata": {},
     "execution_count": 4
    }
   ],
   "source": [
    "data.keys()"
   ]
  },
  {
   "cell_type": "code",
   "execution_count": 5,
   "metadata": {},
   "outputs": [
    {
     "output_type": "execute_result",
     "data": {
      "text/plain": [
       "'pick_and_place_simple'"
      ]
     },
     "metadata": {},
     "execution_count": 5
    }
   ],
   "source": [
    "data['task_type']"
   ]
  },
  {
   "cell_type": "code",
   "execution_count": 6,
   "metadata": {},
   "outputs": [
    {
     "output_type": "execute_result",
     "data": {
      "text/plain": [
       "{'anns': [{'assignment_id': 'ARL7HOWLEHNOP_3NG53N1RLY0AP91Z0UYSR74E2JL8P4',\n",
       "   'high_descs': ['Turn across the room, turn right, and walk to the refrigerator.',\n",
       "    'Open the refrigerator, take the glass, and shut the refrigerator door.',\n",
       "    'Turn around and walk to the cabinet.',\n",
       "    'Place the glass in the second cabinet door on the right.'],\n",
       "   'task_desc': 'Place the chilled glass in the cabinet.',\n",
       "   'votes': [1, 1, 1]},\n",
       "  {'assignment_id': 'A1ELPYAFO7MANS_3ZR9AIQJUEQ6IRAD76TPVUN1SQM40X',\n",
       "   'high_descs': ['Walk straight and hang right to face the fridge.',\n",
       "    'Take the glass from the top shelf of the fridge.',\n",
       "    'Turn around and take a step forward.',\n",
       "    'Place the glass in the bottom right cabinet.'],\n",
       "   'task_desc': 'Place a chilled glass in a cabinet.',\n",
       "   'votes': [1, 1, 1]},\n",
       "  {'assignment_id': 'AJQGWGESKQT4Y_3AUQQEL7U8A5C4TSR2UC4KNF85HV0T',\n",
       "   'high_descs': ['Go forward and then turn right to face the fridge.',\n",
       "    'Open the fridge and take the vase out and then shut the door to the fridge.',\n",
       "    'Turn around and face the cabinets below the toaster.',\n",
       "    'Open the bottom cabinet, second from the left and put the vase in and shut the door.'],\n",
       "   'task_desc': 'Put a vase in a cabinet.',\n",
       "   'votes': [1, 1]},\n",
       "  {'assignment_id': 'A38Z99XF4NDNH0_3JZQSN0I3TRDRBIN5PEB7Q79RTKFGW',\n",
       "   'high_descs': ['Move straight back then turn right facing the fridge in the corner',\n",
       "    'Open the fridge and remove the clear vase on the shelf',\n",
       "    'Carry the vase to the cupboard directly behind the fridge under the toaster',\n",
       "    'Place the vase in the cupboard then close the cupboard'],\n",
       "   'task_desc': 'Move a vase from the fridge to the cupboard',\n",
       "   'votes': [1, 1]},\n",
       "  {'assignment_id': 'A3F7G1FSFWQPLE_3JNQLM5FT739C9KCSLWK0ZIRB9Y2L3',\n",
       "   'high_descs': ['Begin walking across the room, then hang right and walk over to the black refrigerator.',\n",
       "    'Open the refrigerator door and retrieve the glass of wine from the middle shelf.',\n",
       "    'Turn around and walk over to the counter.',\n",
       "    'Open right most cabinet door in front of you and place the glass of wine inside, then close the door.'],\n",
       "   'task_desc': 'Place a glass of wine in the cabinet.',\n",
       "   'votes': [1, 1]},\n",
       "  {'assignment_id': 'A2KAGFQU28JY43_3WSELTNVR6JM0PNLE9RQS8B7K6DATJ',\n",
       "   'high_descs': ['Walk towards the kitchen and turn to the refrigerator on your right. ',\n",
       "    'Remove the glass jug on the top shelf, to the right of the apple, from the refrigerator. ',\n",
       "    'Turn around and go across the kitchen, to the cupboards under the counter that the toaster is on. ',\n",
       "    'Put the jug into the bottom, right cupboard under the counter. '],\n",
       "   'task_desc': 'Put a milk jug in the cupboard.',\n",
       "   'votes': [1, 0, 1]}]}"
      ]
     },
     "metadata": {},
     "execution_count": 6
    }
   ],
   "source": [
    "data['turk_annotations']"
   ]
  },
  {
   "cell_type": "code",
   "execution_count": null,
   "metadata": {},
   "outputs": [],
   "source": []
  }
 ]
}