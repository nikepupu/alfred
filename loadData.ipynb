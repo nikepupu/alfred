{
 "metadata": {
  "language_info": {
   "codemirror_mode": {
    "name": "ipython",
    "version": 3
   },
   "file_extension": ".py",
   "mimetype": "text/x-python",
   "name": "python",
   "nbconvert_exporter": "python",
   "pygments_lexer": "ipython3",
   "version": "3.6.13"
  },
  "orig_nbformat": 2,
  "kernelspec": {
   "name": "python3",
   "display_name": "Python 3.6.13 64-bit ('alfred': conda)"
  },
  "metadata": {
   "interpreter": {
    "hash": "31146510740782b1bc15b20863bd6d0a0dc62b272327c4675f88c0b4f1de465b"
   }
  },
  "interpreter": {
   "hash": "31146510740782b1bc15b20863bd6d0a0dc62b272327c4675f88c0b4f1de465b"
  }
 },
 "nbformat": 4,
 "nbformat_minor": 2,
 "cells": [
  {
   "cell_type": "code",
   "execution_count": 3,
   "metadata": {},
   "outputs": [],
   "source": [
    "import os \n",
    "import json\n",
    "from ai2thor.controller import Controller\n",
    "import time\n",
    "import pickle\n",
    "import copy"
   ]
  },
  {
   "cell_type": "code",
   "execution_count": null,
   "metadata": {},
   "outputs": [],
   "source": []
  },
  {
   "cell_type": "code",
   "execution_count": 4,
   "metadata": {},
   "outputs": [],
   "source": [
    "def run(floorPlan, object_poses, actions, init_action, object_toggles, dirty_and_empty , turk_annotations, controller, task_type):\n",
    "    \n",
    "    controller.reset(scene_name =  floorPlan)\n",
    "    \n",
    "    if len(object_toggles) > 0:\n",
    "            controller.step((dict(action='SetObjectToggles', objectToggles=object_toggles)))\n",
    "\n",
    "    if dirty_and_empty:\n",
    "            controller.step(dict(action='SetStateOfAllObjects',\n",
    "                               StateChange=\"CanBeDirty\",\n",
    "                               forceAction=True))\n",
    "            controller.step(dict(action='SetStateOfAllObjects',\n",
    "                               StateChange=\"CanBeFilled\",\n",
    "                               forceAction=False))\n",
    "\n",
    "    tmp = dict( action ='SetObjectPoses', objectPoses=object_poses)\n",
    " \n",
    "    controller.step(tmp)\n",
    "    \n",
    "    # frame  = controller.last_event.frame\n",
    "    controller.step(init_action)\n",
    "    items = []\n",
    "    subgoals = 0\n",
    "    for action in actions:\n",
    "        subgoals = max(action['high_idx'], subgoals)\n",
    "    subgoals += 1\n",
    "    \n",
    "    for action in actions:\n",
    "        precondition = controller.last_event.frame\n",
    "        # print(action['api_action'])\n",
    "        instance = controller.last_event.instance_segmentation_frame\n",
    "        action['api_action'][ 'renderObjectImage'] = True\n",
    "        controller.step(action['api_action'] )\n",
    "        print(controller.last_event.instance_segmentation_frame)\n",
    "        # print(controller.last_event.metadata['lastActionSuccess'])\n",
    "        posteffect = controller.last_event.frame\n",
    "        item = {\n",
    "            'precondition': precondition, \n",
    "            'posteffect': posteffect, \n",
    "            'action' : action['api_action'], \n",
    "            'subgoals': subgoals, \n",
    "            'current_goal': action['high_idx'], \n",
    "            'currentprogress': float(action['high_idx'])/float(subgoals), \n",
    "            'low_descs': [ a['high_descs'][action['high_idx']] for a in  turk_annotations] , \n",
    "            'task_descs': [ a['task_desc'] for a in turk_annotations ],\n",
    "            'task_type': task_type\n",
    "        }\n",
    "        items.append(item)\n",
    "        # cur_high_idx = 0\n",
    "        \n",
    "        # for a in turk_annotations:\n",
    "        #     try:\n",
    "        #         item['low_descs'] = None\n",
    "        #         item['task_desc'] = None\n",
    "        #         item['low_descs'] = a['high_descs'][action['high_idx']]\n",
    "        #         item['task_desc'] = a['task_desc']\n",
    "               \n",
    "        #         if item['low_descs'] and item['task_desc']:\n",
    "        #             items.append(copy.deepcopy(item))\n",
    "                \n",
    "        #     except:\n",
    "        #         pass\n",
    "\n",
    "    return items\n",
    "\n"
   ]
  },
  {
   "cell_type": "code",
   "execution_count": null,
   "metadata": {},
   "outputs": [],
   "source": [
    "def generate_high_plan_argument(data):\n",
    "    high_plan_argument = {0 : {}, 1: {}}\n",
    "    for idx, item in enumerate(data['plan']['high_pddl']):\n",
    "                if len(item['discrete_action']['args']) > 0 :\n",
    "                    for i in range(len(item['discrete_action']['args'])):\n",
    "                        if item['discrete_action']['args'][i].endswith('bottle'):\n",
    "                            item['discrete_action']['args'][i] = 'bottle'\n",
    "\n",
    "                \n",
    "                if item['discrete_action']['action'] == 'NoOp':\n",
    "                    break\n",
    "                if item['discrete_action']['action'] not in high_plan:\n",
    "                    high_plan[item['discrete_action']['action']] = []\n",
    "                try:\n",
    "                    if len(item['discrete_action']['args']) > 0:\n",
    "                            for i in range(len(item['discrete_action']['args'])):\n",
    "                                if  item['discrete_action']['args'][i] not in high_plan_argument:\n",
    "                                    if not item['discrete_action']['args'][i] == '':\n",
    "                                        high_plan_argument[ item['discrete_action']['args'][i] ] = []\n",
    "    return high_plan_argument\n",
    "\n"
   ]
  },
  {
   "cell_type": "code",
   "execution_count": null,
   "metadata": {},
   "outputs": [],
   "source": [
    "def generate_high_plan(data):\n",
    "    high_plan = {}\n",
    "    for idx, item in enumerate(data['plan']['high_pddl']):\n",
    "        if item['discrete_action']['action'] == 'NoOp':\n",
    "            break\n",
    "        if item['discrete_action']['action'] not in high_plan:\n",
    "            high_plan[item['discrete_action']['action']] = []\n",
    "            high_plan[item['discrete_action']['action']].append()\n",
    "    "
   ]
  },
  {
   "cell_type": "code",
   "execution_count": null,
   "metadata": {},
   "outputs": [],
   "source": [
    "def generate_plan(data):\n",
    "    \n"
   ]
  },
  {
   "cell_type": "code",
   "execution_count": 7,
   "metadata": {
    "tags": []
   },
   "outputs": [
    {
     "output_type": "stream",
     "name": "stderr",
     "text": [
      "100%|██████████| 2435/2435 [00:08<00:00, 283.19it/s]\n"
     ]
    }
   ],
   "source": [
    "split = 'train'\n",
    "tasks = os.listdir('data/full_2.1.0/' + split)\n",
    "cnt = 0\n",
    "# controller = Controller()\n",
    "# controller.start(player_screen_height=300,\n",
    "#                  player_screen_width=300)\n",
    "from tqdm import tqdm\n",
    "table = []\n",
    "jstring = {}\n",
    "high_plan = {}\n",
    "task_init_actions = {}\n",
    "high_plan_argument = {0 : {}, 1: {}}\n",
    "multi_argument = []\n",
    "task_actions  = {}\n",
    "\n",
    "for task in tqdm(tasks):\n",
    "    task_path =  os.path.join('data/full_2.1.0/' + split, task)\n",
    "    trials = os.listdir(task_path)\n",
    "    \n",
    "    for trial in trials:\n",
    "        path = os.path.join('data/full_2.1.0/' + split, task, trial, 'traj_data.json')\n",
    "        \n",
    "        with open(path) as f:\n",
    "            data = json.load(f)\n",
    "\n",
    "        floorPlan = data['scene']['floor_plan']\n",
    "        object_poses = data['scene']['object_poses']\n",
    "        actions = data['plan']['low_actions']\n",
    "        init_action = data['scene']['init_action']\n",
    "        object_toggles  = data['scene']['object_toggles']\n",
    "        dirty_and_empty = data['scene']['dirty_and_empty']\n",
    "        turk_annotations =  data['turk_annotations']['anns']\n",
    "        pddl = data['plan']['high_pddl']\n",
    "\n",
    "        for idx, item in enumerate(data['plan']['high_pddl'])\n",
    "        for action in actions:\n",
    "            api = action['api_action']\n",
    "\n",
    "        # if dirty_and_empty:\n",
    "        #     print(dirty_and_empty)\n",
    "        # continue\n",
    "\n",
    "        for idx, item in enumerate(data['plan']['high_pddl']):\n",
    "                if len(item['discrete_action']['args']) > 0 :\n",
    "                    for i in range(len(item['discrete_action']['args'])):\n",
    "                        if item['discrete_action']['args'][i].endswith('bottle'):\n",
    "                            item['discrete_action']['args'][i] = 'bottle'\n",
    "\n",
    "                \n",
    "                if item['discrete_action']['action'] == 'NoOp':\n",
    "                    break\n",
    "                if item['discrete_action']['action'] not in high_plan:\n",
    "                    high_plan[item['discrete_action']['action']] = []\n",
    "                try:\n",
    "                    if len(item['discrete_action']['args']) > 0:\n",
    "                            for i in range(len(item['discrete_action']['args'])):\n",
    "                                if  item['discrete_action']['args'][i] not in high_plan_argument:\n",
    "                                    if not item['discrete_action']['args'][i] == '':\n",
    "                                        high_plan_argument[ item['discrete_action']['args'][i] ] = []\n",
    "                except:\n",
    "                    # print(item['discrete_action'])\n",
    "                    pass\n",
    "               \n",
    "\n",
    "                for annotation in turk_annotations:\n",
    "                    try:\n",
    "                        \n",
    "                        high_plan[item['discrete_action']['action']].append(annotation['high_descs'][idx])\n",
    "                        if item['discrete_action']['action'] == 'GotoLocation':\n",
    "                            continue\n",
    "                        if len(item['discrete_action']['args']) > 0 :\n",
    "                            for i in range(len(item['discrete_action']['args'])):\n",
    "                                if item['discrete_action']['args'][i] == '':\n",
    "                                    continue\n",
    "                                # if item['discrete_action']['args'][-1] == 'winebottle':\n",
    "                                #     print(item['discrete_action'])\n",
    "                                #     print(annotation['high_descs'][idx])\n",
    "\n",
    "                                high_plan_argument[i][item['discrete_action']['args'][i]].append(annotation['high_descs'][idx])\n",
    "                        # if len(item['discrete_action']['args']) > 1:\n",
    "                        #     # print(item['discrete_action'])\n",
    "                        #     multi_argument.append(item['discrete_action'])\n",
    "                    except:\n",
    "                        # print(idx, item['discrete_action']['action'], annotation['high_descs'])\n",
    "                        # for a in data['plan']['high_pddl']:\n",
    "                        #     print(a['discrete_action']['action'])\n",
    "                        pass\n",
    "        subgoals = 0\n",
    "        for action in actions:\n",
    "            subgoals = max(action['high_idx'], subgoals)\n",
    "\n",
    "        current_goal = 0\n",
    "        actions_so_far = []\n",
    "        previous_task = data['plan']['high_pddl'][current_goal]['discrete_action']['action']\n",
    "        previous_goal = current_goal\n",
    "        for action in actions:\n",
    "            previous_goal = current_goal\n",
    "            \n",
    "            current_goal = action['high_idx']\n",
    "            current_task = data['plan']['high_pddl'][current_goal]['discrete_action']['action']\n",
    "            # if previous_task is not current_task:\n",
    "            #     entry = {}\n",
    "            #     entry['init_action'] = init_action\n",
    "            #     entry['pre_action'] = actions_so_far\n",
    "            #     entry['poses'] = object_poses\n",
    "            #     entry['floorPlan'] = floorPlan\n",
    "            #     entry['object_toggles'] = object_toggles\n",
    "            #     entry['dirty_and_empty'] = dirty_and_empty\n",
    "            #     entry['high_descs'] = [ a['high_descs'][action['high_idx']] for a in  turk_annotations]\n",
    "            #     entry['task_descs'] = [ a['task_desc'] for a in  turk_annotations ]\n",
    "                # entry['traj'] = traj\n",
    "                \n",
    "\n",
    "            previous_task = current_task\n",
    "            actions_so_far.append(action)\n",
    "\n",
    "        if  data['task_type'] not in jstring:\n",
    "            jstring[data['task_type'] ] = []\n",
    "            jstring[data['task_type'] ].append(turk_annotations)\n",
    "        else:\n",
    "            jstring[data['task_type'] ].append(turk_annotations)\n",
    "        \n",
    "        # try:\n",
    "        #     eposide = run(floorPlan, object_poses, actions, init_action, object_toggles, dirty_and_empty, turk_annotations , controller, data['task_type'])\n",
    "        #     table.append(eposide)\n",
    "        # except:\n",
    "        #     pass\n",
    "        \n",
    "    continue\n",
    "    if len(table) > 500 or task == tasks[-1]:\n",
    "        with open('dataset_'+split+'_'+str(cnt)+'.pickle', 'wb') as handle:\n",
    "            pickle.dump(table, handle, protocol=pickle.HIGHEST_PROTOCOL)\n",
    "        cnt += 1\n",
    "        table = []\n",
    "    \n",
    "        # for action in actions:\n",
    "        #         print(action['api_action'])\n",
    "       \n",
    "# controller.stop()"
   ]
  },
  {
   "cell_type": "code",
   "execution_count": 4,
   "metadata": {},
   "outputs": [
    {
     "output_type": "execute_result",
     "data": {
      "text/plain": [
       "dict_keys(['images', 'pddl_params', 'plan', 'scene', 'task_id', 'task_type', 'turk_annotations'])"
      ]
     },
     "metadata": {},
     "execution_count": 4
    }
   ],
   "source": [
    "data.keys()"
   ]
  },
  {
   "cell_type": "code",
   "execution_count": 5,
   "metadata": {},
   "outputs": [
    {
     "output_type": "stream",
     "name": "stdout",
     "text": [
      "GotoLocation\nPickupObject\nGotoLocation\nCleanObject\nGotoLocation\nPutObject\nNoOp\n"
     ]
    }
   ],
   "source": [
    "data['plan']['high_pddl']\n",
    "for item in data['plan']['high_pddl']:\n",
    "    print(item['discrete_action']['action'])"
   ]
  },
  {
   "cell_type": "code",
   "execution_count": 6,
   "metadata": {},
   "outputs": [
    {
     "output_type": "execute_result",
     "data": {
      "text/plain": [
       "{'anns': [{'assignment_id': 'A1ELPYAFO7MANS_3BDCF01OG0L7YJZHHESWAP3ZNI7LY7',\n",
       "   'high_descs': ['Walk ahead to the door, then turn left and take a step, then turn left and face the counter.',\n",
       "    'Pick up the dirty plate on the counter.',\n",
       "    'Walk left around the counter, and straight to the sink.',\n",
       "    'Clean the plate in the sink.',\n",
       "    'Turn left and walk to the fridge.',\n",
       "    'Place the plate on the top shelf of the fridge.'],\n",
       "   'task_desc': 'Place a rinsed plate in the fridge.',\n",
       "   'votes': [1, 1]},\n",
       "  {'assignment_id': 'A20FCMWP43CVIU_3FPRZHYEP1Y9ELEN6X1C745O5FD3V1',\n",
       "   'high_descs': ['walk to face bar counter top',\n",
       "    'pick up plate from counter ',\n",
       "    'walk to face sink',\n",
       "    'wash and remove plate from sink',\n",
       "    'walk to face fridge',\n",
       "    'put plate inside fridge'],\n",
       "   'task_desc': 'put washed plate inside fridge',\n",
       "   'votes': [1, 1]},\n",
       "  {'assignment_id': 'A3HL2LL0LEPZT8_3I3WADAZ9TVH2GSUJ43RR990NHMO5N',\n",
       "   'high_descs': ['Go forward and right to the door, turn left, go forward, turn left at the chairs.',\n",
       "    'Take the plate from the counter.',\n",
       "    \"Turn left, go forward, after passing the counter's end turn right, go forward, turn right after passing the counter, go forward, turn left, go forward to the sink.\",\n",
       "    'Wash the plate in the sink, take the plate from the sink.',\n",
       "    'Turn around, go forward, turn right, go forward to the fridge.',\n",
       "    'Put the plate behind the tomato in the fridge.'],\n",
       "   'task_desc': 'Put a washed plate in a fridge.',\n",
       "   'votes': [1, 1]}]}"
      ]
     },
     "metadata": {},
     "execution_count": 6
    }
   ],
   "source": [
    "\n",
    "data['turk_annotations']"
   ]
  },
  {
   "cell_type": "code",
   "execution_count": 7,
   "metadata": {
    "tags": []
   },
   "outputs": [
    {
     "output_type": "execute_result",
     "data": {
      "text/plain": [
       "dict_keys(['look_at_obj_in_light', 'pick_cool_then_place_in_recep', 'pick_heat_then_place_in_recep', 'pick_and_place_with_movable_recep', 'pick_and_place_simple', 'pick_clean_then_place_in_recep', 'pick_two_obj_and_place'])"
      ]
     },
     "metadata": {},
     "execution_count": 7
    }
   ],
   "source": [
    "from collections import defaultdict, Counter\n",
    "lens = {}\n",
    "for k,v in jstring.items():\n",
    "    lens[k] = []\n",
    "    for p in v:\n",
    "       for item in p:\n",
    "           lens[k].append(len(item['high_descs']))\n",
    "\n",
    "lens.keys()   \n"
   ]
  },
  {
   "cell_type": "code",
   "execution_count": 8,
   "metadata": {},
   "outputs": [
    {
     "output_type": "stream",
     "name": "stdout",
     "text": [
      "Counter({4: 94})\nCounter({6: 87, 12: 27, 11: 12})\nCounter({6: 60, 12: 41, 9: 3, 10: 3})\nCounter({7: 52, 6: 18, 11: 14, 13: 12, 10: 9, 12: 5, 4: 5})\nCounter({6: 99, 12: 10, 11: 3})\nCounter({4: 142})\nCounter({8: 118, 16: 6})\n"
     ]
    }
   ],
   "source": [
    "print(Counter(lens['look_at_obj_in_light']))\n",
    "print(Counter(lens['pick_cool_then_place_in_recep']))\n",
    "print(Counter(lens['pick_heat_then_place_in_recep']))\n",
    "print(Counter(lens['pick_and_place_with_movable_recep']))\n",
    "print(Counter(lens['pick_clean_then_place_in_recep']))\n",
    "print(Counter(lens['pick_and_place_simple']))\n",
    "print(Counter(lens['pick_two_obj_and_place']))\n"
   ]
  },
  {
   "cell_type": "code",
   "execution_count": 9,
   "metadata": {},
   "outputs": [],
   "source": [
    "import torch\n",
    "vocab = torch.load('pp.vocab')"
   ]
  },
  {
   "cell_type": "code",
   "execution_count": 10,
   "metadata": {},
   "outputs": [],
   "source": [
    "# vocab['word'].word2index('')"
   ]
  },
  {
   "cell_type": "code",
   "execution_count": 11,
   "metadata": {},
   "outputs": [
    {
     "output_type": "execute_result",
     "data": {
      "text/plain": [
       "dict_keys(['GotoLocation', 'PickupObject', 'ToggleObject', 'CoolObject', 'PutObject', 'SliceObject', 'HeatObject', 'CleanObject'])"
      ]
     },
     "metadata": {},
     "execution_count": 11
    }
   ],
   "source": [
    "high_plan.keys()"
   ]
  },
  {
   "cell_type": "code",
   "execution_count": 12,
   "metadata": {},
   "outputs": [],
   "source": [
    "import json\n",
    "with open('dataset_high_plan_' + split + '.json', 'w') as fp:\n",
    "    json.dump(high_plan, fp)"
   ]
  },
  {
   "cell_type": "code",
   "execution_count": 17,
   "metadata": {},
   "outputs": [
    {
     "output_type": "execute_result",
     "data": {
      "text/plain": [
       "['countertop']"
      ]
     },
     "metadata": {},
     "execution_count": 17
    }
   ],
   "source": [
    "data['plan']['high_pddl'][0]['discrete_action']['args']"
   ]
  },
  {
   "cell_type": "code",
   "execution_count": 14,
   "metadata": {
    "tags": []
   },
   "outputs": [
    {
     "output_type": "execute_result",
     "data": {
      "text/plain": [
       "81"
      ]
     },
     "metadata": {},
     "execution_count": 14
    }
   ],
   "source": [
    "len(list(high_plan_argument.keys()))"
   ]
  },
  {
   "cell_type": "code",
   "execution_count": 10,
   "metadata": {},
   "outputs": [],
   "source": [
    "with open('dataset_high_plan_argument_' + split + '.json', 'w') as fp:\n",
    "    json.dump(high_plan_argument, fp)"
   ]
  },
  {
   "cell_type": "code",
   "execution_count": 8,
   "metadata": {},
   "outputs": [
    {
     "output_type": "stream",
     "name": "stdout",
     "text": [
      "set()\n"
     ]
    }
   ],
   "source": [
    "action_set = set()\n",
    "for item in multi_argument:\n",
    "    action_set.add(item['action'])\n",
    "print(action_set)\n"
   ]
  },
  {
   "cell_type": "code",
   "execution_count": null,
   "metadata": {},
   "outputs": [],
   "source": []
  }
 ]
}